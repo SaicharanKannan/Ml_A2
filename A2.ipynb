{
 "cells": [
  {
   "cell_type": "code",
   "execution_count": 2,
   "metadata": {},
   "outputs": [],
   "source": [
    "import pandas as pd\n",
    "import csv"
   ]
  },
  {
   "cell_type": "code",
   "execution_count": 3,
   "metadata": {},
   "outputs": [
    {
     "name": "stdout",
     "output_type": "stream",
     "text": [
      "Column names are InstanceID,patientID,ImageName,cellTypeName,cellType,isCancerous\n",
      "Processed 1 lines.\n"
     ]
    }
   ],
   "source": [
    "with open ('data_labels_mainData.csv') as data_main:\n",
    "    data_main = csv.reader(data_main,delimiter=',')\n",
    "    line_Count = 0\n",
    "    for row in data_main:\n",
    "        if line_Count == 0:\n",
    "            print(f'Column names are {\",\".join(row)}')\n",
    "            line_Count += 1\n",
    "        else:\n",
    "            break\n",
    "\n",
    "    print(f'Processed {line_Count} lines.')\n",
    "\n"
   ]
  },
  {
   "cell_type": "code",
   "execution_count": 4,
   "metadata": {},
   "outputs": [
    {
     "name": "stdout",
     "output_type": "stream",
     "text": [
      "      InstanceID  patientID  ImageName cellTypeName  cellType  isCancerous\n",
      "0          22405          1  22405.png   fibroblast         0            0\n",
      "1          22406          1  22406.png   fibroblast         0            0\n",
      "2          22407          1  22407.png   fibroblast         0            0\n",
      "3          22408          1  22408.png   fibroblast         0            0\n",
      "4          22409          1  22409.png   fibroblast         0            0\n",
      "...          ...        ...        ...          ...       ...          ...\n",
      "9891        1625         60   1625.png   epithelial         2            1\n",
      "9892        1626         60   1626.png   epithelial         2            1\n",
      "9893        1627         60   1627.png   epithelial         2            1\n",
      "9894        1628         60   1628.png   epithelial         2            1\n",
      "9895        1629         60   1629.png   epithelial         2            1\n",
      "\n",
      "[9896 rows x 6 columns]\n"
     ]
    }
   ],
   "source": [
    "df = pd.read_csv('data_labels_mainData.csv')\n",
    "print(df)"
   ]
  },
  {
   "cell_type": "code",
   "execution_count": 6,
   "metadata": {},
   "outputs": [
    {
     "name": "stdout",
     "output_type": "stream",
     "text": [
      "<class 'pandas.core.frame.DataFrame'>\n",
      "RangeIndex: 9896 entries, 0 to 9895\n",
      "Data columns (total 6 columns):\n",
      " #   Column        Non-Null Count  Dtype \n",
      "---  ------        --------------  ----- \n",
      " 0   InstanceID    9896 non-null   int64 \n",
      " 1   patientID     9896 non-null   int64 \n",
      " 2   ImageName     9896 non-null   object\n",
      " 3   cellTypeName  9896 non-null   object\n",
      " 4   cellType      9896 non-null   int64 \n",
      " 5   isCancerous   9896 non-null   int64 \n",
      "dtypes: int64(4), object(2)\n",
      "memory usage: 464.0+ KB\n"
     ]
    },
    {
     "data": {
      "text/plain": [
       "(None, (9896, 6))"
      ]
     },
     "execution_count": 6,
     "metadata": {},
     "output_type": "execute_result"
    }
   ],
   "source": [
    "df.info(), "
   ]
  }
 ],
 "metadata": {
  "kernelspec": {
   "display_name": "Python 3",
   "language": "python",
   "name": "python3"
  },
  "language_info": {
   "codemirror_mode": {
    "name": "ipython",
    "version": 3
   },
   "file_extension": ".py",
   "mimetype": "text/x-python",
   "name": "python",
   "nbconvert_exporter": "python",
   "pygments_lexer": "ipython3",
   "version": "3.9.12"
  },
  "orig_nbformat": 4
 },
 "nbformat": 4,
 "nbformat_minor": 2
}
